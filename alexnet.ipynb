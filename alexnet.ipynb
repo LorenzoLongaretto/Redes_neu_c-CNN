{
 "cells": [
  {
   "cell_type": "code",
   "execution_count": null,
   "metadata": {},
   "outputs": [],
   "source": [
    "import numpy as np\n",
    "import os\n",
    "import re\n",
    "import matplotlib.pyplot as plt\n",
    "from sklearn.model_selection import train_test_split\n",
    "from sklearn.metrics import classification_report\n",
    "import keras\n",
    "from keras import Input\n",
    "from keras.utils import to_categorical\n",
    "from keras.models import Sequential,Model\n",
    "from keras.layers import Dense, Dropout, Flatten\n",
    "from keras.layers import Conv2D, MaxPooling2D\n",
    "from keras.layers import BatchNormalization\n",
    "from keras.layers import LeakyReLU\n",
    "\n",
    "import tensorflow"
   ]
  },
  {
   "cell_type": "code",
   "execution_count": null,
   "metadata": {},
   "outputs": [],
   "source": [
    "modelo = keras.Sequential()\n",
    "modelo.add(Conv2D(filters=96, kernel_size=(11, 11), \n",
    "                        strides=(4, 4), activation=\"relu\", \n",
    "                        input_shape=(227, 227, 3)))\n",
    "modelo.add(BatchNormalization())\n",
    "modelo.add(MaxPooling2D(pool_size=(3, 3), strides= (2, 2)))\n",
    "modelo.add(Conv2D(filters=256, kernel_size=(5, 5), \n",
    "                        strides=(1, 1), activation=\"relu\", \n",
    "                        padding=\"same\"))\n",
    "modelo.add(BatchNormalization())\n",
    "modelo.add(MaxPooling2D(pool_size=(3, 3), strides=(2, 2)))\n",
    "modelo.add(Conv2D(filters=384, kernel_size=(3, 3), \n",
    "                        strides=(1, 1), activation=\"relu\", \n",
    "                        padding=\"same\"))\n",
    "modelo.add(BatchNormalization())\n",
    "modelo.add(Conv2D(filters=384, kernel_size=(3, 3), \n",
    "                        strides=(1, 1), activation=\"relu\", \n",
    "                        padding=\"same\"))\n",
    "modelo.add(BatchNormalization())\n",
    "modelo.add(Conv2D(filters=256, kernel_size=(3, 3), \n",
    "                        strides=(1, 1), activation=\"relu\", \n",
    "                        padding=\"same\"))\n",
    "modelo.add(BatchNormalization())\n",
    "modelo.add(MaxPooling2D(pool_size=(3, 3), strides=(2, 2)))\n",
    "modelo.add(Flatten())\n",
    "modelo.add(Dense(4096, activation=\"relu\"))\n",
    "modelo.add(Dropout(0.5))\n",
    "modelo.add(Dense(10, activation=\"softmax\"))\n",
    "modelo.compile(loss='sparse_categorical_crossentropy', \n",
    "              optimizer=tensorflow.optimizers.SGD(lr=0.001), \n",
    "              metrics=['accuracy'])\n",
    "modelo.summary()"
   ]
  }
 ],
 "metadata": {
  "kernelspec": {
   "display_name": "Python 3.9.13 64-bit (microsoft store)",
   "language": "python",
   "name": "python3"
  },
  "language_info": {
   "name": "python",
   "version": "3.9.13"
  },
  "orig_nbformat": 4,
  "vscode": {
   "interpreter": {
    "hash": "5a9dd97664bf91ef683581d1f7f613b6b8bcbe68b67ef643700d803de5486458"
   }
  }
 },
 "nbformat": 4,
 "nbformat_minor": 2
}
