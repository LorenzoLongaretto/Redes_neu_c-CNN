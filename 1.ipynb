{
 "cells": [
  {
   "cell_type": "markdown",
   "metadata": {},
   "source": [
    "## imports"
   ]
  },
  {
   "cell_type": "code",
   "execution_count": 66,
   "metadata": {},
   "outputs": [],
   "source": [
    "import numpy as np\n",
    "import os\n",
    "import re\n",
    "import matplotlib.pyplot as plt\n",
    "from sklearn.model_selection import train_test_split\n",
    "from sklearn.metrics import classification_report\n",
    "import keras\n",
    "from keras import Input\n",
    "from keras.utils import to_categorical\n",
    "from keras.models import Sequential,Model\n",
    "from keras.layers import Dense, Dropout, Flatten\n",
    "from keras.layers import Conv2D, MaxPooling2D\n",
    "from keras.layers import BatchNormalization\n",
    "from keras.layers import LeakyReLU\n",
    "\n",
    "import tensorflow\n",
    "\n"
   ]
  },
  {
   "cell_type": "markdown",
   "metadata": {},
   "source": [
    "# Carga de imagenes a memoria"
   ]
  },
  {
   "cell_type": "code",
   "execution_count": 67,
   "metadata": {
    "tags": []
   },
   "outputs": [
    {
     "name": "stdout",
     "output_type": "stream",
     "text": [
      "leyendo imagenes de  c:\\Users\\Loren\\Desktop\\Facu\\Inteligencia Artificial\\visual_IA\\Redes_convolucionales\\Redes_neu_c-CNN\\imagenes\\\n",
      "c:\\Users\\Loren\\Desktop\\Facu\\Inteligencia Artificial\\visual_IA\\Redes_convolucionales\\Redes_neu_c-CNN\\imagenes\\basket 8823\n",
      "c:\\Users\\Loren\\Desktop\\Facu\\Inteligencia Artificial\\visual_IA\\Redes_convolucionales\\Redes_neu_c-CNN\\imagenes\\beisball 7752\n",
      "c:\\Users\\Loren\\Desktop\\Facu\\Inteligencia Artificial\\visual_IA\\Redes_convolucionales\\Redes_neu_c-CNN\\imagenes\\boxeo 7125\n",
      "c:\\Users\\Loren\\Desktop\\Facu\\Inteligencia Artificial\\visual_IA\\Redes_convolucionales\\Redes_neu_c-CNN\\imagenes\\ciclismo 7533\n",
      "c:\\Users\\Loren\\Desktop\\Facu\\Inteligencia Artificial\\visual_IA\\Redes_convolucionales\\Redes_neu_c-CNN\\imagenes\\f1 5053\n",
      "c:\\Users\\Loren\\Desktop\\Facu\\Inteligencia Artificial\\visual_IA\\Redes_convolucionales\\Redes_neu_c-CNN\\imagenes\\futbol 7617\n",
      "c:\\Users\\Loren\\Desktop\\Facu\\Inteligencia Artificial\\visual_IA\\Redes_convolucionales\\Redes_neu_c-CNN\\imagenes\\golf 9768\n",
      "c:\\Users\\Loren\\Desktop\\Facu\\Inteligencia Artificial\\visual_IA\\Redes_convolucionales\\Redes_neu_c-CNN\\imagenes\\natacion 5172\n",
      "c:\\Users\\Loren\\Desktop\\Facu\\Inteligencia Artificial\\visual_IA\\Redes_convolucionales\\Redes_neu_c-CNN\\imagenes\\tenis 8937\n",
      "Directorios leidos: 9\n",
      "Imagenes en cada directorio [8823, 7752, 7125, 7533, 5053, 7617, 9768, 5172, 8937, 0]\n",
      "suma Total de imagenes en subdirs: 67780\n"
     ]
    }
   ],
   "source": [
    "dirname = os.path.join(os.getcwd(), 'imagenes')\n",
    "imgpath = dirname + os.sep\n",
    "\n",
    "images = []\n",
    "directories = []\n",
    "dircount = []\n",
    "cant=0\n",
    "\n",
    "\n",
    "print(\"leyendo imagenes de \",imgpath)\n",
    "\n",
    "\n",
    "# for root, dirnames, filenames in os.walk(imgpath):\n",
    "#     print(root)\n",
    "for root, dirnames, filenames in os.walk(imgpath):\n",
    "    for filename in filenames:\n",
    "        if re.search(\"\\.(jpg|jpeg|png|bmp|tiff)$\", filename):\n",
    "            cant=cant+1\n",
    "            filepath = os.path.join(root, filename)\n",
    "            imagen = plt.imread(filepath)\n",
    "            images.append(imagen)\n",
    "            b = \"Leyendo...\" + str(cant)\n",
    "            print (b, end=\"\\r\")\n",
    "    if (re.search(\"\\.(jpg|jpeg|png|bmp|tiff)$\", filename)):\n",
    "        print(root, cant)\n",
    "        directories.append(root)\n",
    "        dircount.append(cant)\n",
    "        cant=0\n",
    "dircount.append(cant)\n",
    "\n",
    "# dircount = dircount[1:]\n",
    "# dircount[0]=dircount[0]+1\n",
    "print('Directorios leidos:',len(directories))\n",
    "print(\"Imagenes en cada directorio\", dircount)\n",
    "print('suma Total de imagenes en subdirs:',sum(dircount))"
   ]
  },
  {
   "cell_type": "markdown",
   "metadata": {},
   "source": [
    "# Etiquetas y clases"
   ]
  },
  {
   "cell_type": "code",
   "execution_count": 68,
   "metadata": {},
   "outputs": [
    {
     "name": "stdout",
     "output_type": "stream",
     "text": [
      "Cantidad etiquetas creadas:  67780\n",
      "0 basket\n",
      "1 beisball\n",
      "2 boxeo\n",
      "3 ciclismo\n",
      "4 f1\n",
      "5 futbol\n",
      "6 golf\n",
      "7 natacion\n",
      "8 tenis\n",
      "Total number of outputs :  9\n",
      "Output classes :  [0 1 2 3 4 5 6 7 8]\n"
     ]
    }
   ],
   "source": [
    "labels=[]\n",
    "indice=0\n",
    "for cantidad in dircount:\n",
    "    for i in range(cantidad):\n",
    "        labels.append(indice)\n",
    "    indice=indice+1\n",
    "print(\"Cantidad etiquetas creadas: \",len(labels))\n",
    "\n",
    "deportes=[]\n",
    "indice=0\n",
    "for directorio in directories:\n",
    "    name = directorio.split(os.sep)\n",
    "    print(indice , name[len(name)-1])\n",
    "    deportes.append(name[len(name)-1])\n",
    "    indice=indice+1\n",
    "\n",
    "y = np.array(labels)\n",
    "X = np.array(images, dtype=np.uint8) #convierto de lista a numpy\n",
    "\n",
    "classes = np.unique(y)\n",
    "nClasses = len(classes)\n",
    "print('Total number of outputs : ', nClasses)\n",
    "print('Output classes : ', classes)"
   ]
  },
  {
   "cell_type": "code",
   "execution_count": 69,
   "metadata": {},
   "outputs": [
    {
     "name": "stdout",
     "output_type": "stream",
     "text": [
      "Training data shape :  (54224, 21, 28, 3) (54224,)\n",
      "Testing data shape :  (13556, 21, 28, 3) (13556,)\n",
      "Original label: 0\n",
      "Luego de one-hot: [1. 0. 0. 0. 0. 0. 0. 0. 0.]\n",
      "Entrenamiento   (43379, 21, 28, 3)  Validacion (10845, 21, 28, 3) (43379, 9) (10845, 9)\n"
     ]
    }
   ],
   "source": [
    "#Mezclar todo y crear los grupos de entrenamiento y testing\n",
    "train_X,test_X,train_Y,test_Y = train_test_split(X,y,test_size=0.2) #tomo el 20% para test\n",
    "print('Training data shape : ', train_X.shape, train_Y.shape) #en el print sale cant img train- (21x28)dim img- RGB\n",
    "print('Testing data shape : ', test_X.shape, test_Y.shape)\n",
    "\n",
    "train_X = train_X.astype('float32')\n",
    "test_X = test_X.astype('float32')\n",
    "train_X = train_X / 255.\n",
    "test_X = test_X / 255.\n",
    "\n",
    "# one-hot encoding\n",
    "train_Y_one_hot = to_categorical(train_Y)\n",
    "test_Y_one_hot = to_categorical(test_Y)\n",
    "\n",
    "# original y post one-hot encoding\n",
    "print('Original label:', train_Y[0])\n",
    "print('Luego de one-hot:', train_Y_one_hot[0])\n",
    "\n",
    "train_X,valid_X,train_label,valid_label = train_test_split(train_X, train_Y_one_hot, test_size=0.2, random_state=13) #datos de validacion, 20% del train\n",
    "\n",
    "print(\"Entrenamiento  \",train_X.shape,\" Validacion\",valid_X.shape,train_label.shape,valid_label.shape)"
   ]
  },
  {
   "cell_type": "code",
   "execution_count": 70,
   "metadata": {},
   "outputs": [],
   "source": [
    "INIT_LR = 1e-3\n",
    "\n",
    "# modelo = Sequential()\n",
    "# modelo.add(Conv2D(32, kernel_size=(3, 3),activation='linear',padding='same',input_shape=(21,28,3))) #21x28x3\n",
    "# modelo.add(LeakyReLU(alpha=0.1)) \n",
    "# modelo.add(MaxPooling2D((2, 2),padding='same'))# 21x28->11x14 \n",
    "# modelo.add(Dropout(0.5)) #para evitar overfitting\n",
    "\n",
    "# modelo.add(Flatten()) #aplano\n",
    "# modelo.add(Dense(32, activation='linear'))# capa de 32 nauronas-> 2^5\n",
    "# modelo.add(LeakyReLU(alpha=0.1))\n",
    "# modelo.add(Dropout(0.5)) \n",
    "# modelo.add(Dense(nClasses, activation='softmax'))# capa de tantas neuronas como clases, creo que deberia ser pot de 2\n",
    "\n",
    "# modelo.summary()\n",
    "# #compilador y optimizador\n",
    "# modelo.compile(loss=keras.losses.categorical_crossentropy, optimizer=keras.optimizers.Adagrad(lr=INIT_LR, decay=INIT_LR / 100),metrics=['accuracy'])"
   ]
  },
  {
   "cell_type": "markdown",
   "metadata": {},
   "source": [
    "intento de arq similar alexnet"
   ]
  },
  {
   "cell_type": "code",
   "execution_count": 71,
   "metadata": {},
   "outputs": [],
   "source": [
    "# INIT_LR = 1e-3\n",
    "\n",
    "# modelo = Sequential()\n",
    "# modelo.add(Conv2D(32, kernel_size=(3, 3),activation='linear',padding='same',input_shape=(21,28,3)))\n",
    "# modelo.add(MaxPooling2D((2, 2),padding='same'))\n",
    "# modelo.add(Conv2D(32, kernel_size=(3, 3),activation='linear',padding='same',input_shape=(21,28,3)))\n",
    "# modelo.add(MaxPooling2D((2, 2),padding='same'))\n",
    "# modelo.add(Conv2D(32, kernel_size=(3, 3),activation='linear',padding='same',input_shape=(21,28,3)))\n",
    "# modelo.add(Conv2D(32, kernel_size=(3, 3),activation='linear',padding='same',input_shape=(21,28,3)))\n",
    "# modelo.add(Conv2D(32, kernel_size=(3, 3),activation='linear',padding='same',input_shape=(21,28,3)))\n",
    "# modelo.add(MaxPooling2D((2, 2),padding='same'))\n",
    "\n",
    "\n",
    "# modelo.summary()\n",
    "\n",
    "# modelo.compile(loss=keras.losses.categorical_crossentropy, optimizer=keras.optimizers.Adagrad(lr=INIT_LR, decay=INIT_LR / 100),metrics=['accuracy'])"
   ]
  },
  {
   "cell_type": "markdown",
   "metadata": {},
   "source": [
    "intento 2"
   ]
  },
  {
   "cell_type": "code",
   "execution_count": 72,
   "metadata": {},
   "outputs": [
    {
     "ename": "ValueError",
     "evalue": "Exception encountered when calling layer \"max_pooling2d_18\" (type MaxPooling2D).\n\nNegative dimension size caused by subtracting 3 from 1 for '{{node max_pooling2d_18/MaxPool}} = MaxPool[T=DT_FLOAT, data_format=\"NHWC\", explicit_paddings=[], ksize=[1, 3, 3, 1], padding=\"VALID\", strides=[1, 2, 2, 1]](Placeholder)' with input shapes: [?,1,2,256].\n\nCall arguments received by layer \"max_pooling2d_18\" (type MaxPooling2D):\n  • inputs=tf.Tensor(shape=(None, 1, 2, 256), dtype=float32)",
     "output_type": "error",
     "traceback": [
      "\u001b[1;31m---------------------------------------------------------------------------\u001b[0m",
      "\u001b[1;31mValueError\u001b[0m                                Traceback (most recent call last)",
      "\u001b[1;32mc:\\Users\\Loren\\Desktop\\Facu\\Inteligencia Artificial\\visual_IA\\Redes_convolucionales\\Redes_neu_c-CNN\\1.ipynb Celda 12\u001b[0m in \u001b[0;36m<cell line: 11>\u001b[1;34m()\u001b[0m\n\u001b[0;32m      <a href='vscode-notebook-cell:/c%3A/Users/Loren/Desktop/Facu/Inteligencia%20Artificial/visual_IA/Redes_convolucionales/Redes_neu_c-CNN/1.ipynb#X21sZmlsZQ%3D%3D?line=6'>7</a>\u001b[0m modelo\u001b[39m.\u001b[39madd(Conv2D(filters\u001b[39m=\u001b[39m\u001b[39m256\u001b[39m, kernel_size\u001b[39m=\u001b[39m(\u001b[39m5\u001b[39m, \u001b[39m5\u001b[39m), \n\u001b[0;32m      <a href='vscode-notebook-cell:/c%3A/Users/Loren/Desktop/Facu/Inteligencia%20Artificial/visual_IA/Redes_convolucionales/Redes_neu_c-CNN/1.ipynb#X21sZmlsZQ%3D%3D?line=7'>8</a>\u001b[0m                         strides\u001b[39m=\u001b[39m(\u001b[39m1\u001b[39m, \u001b[39m1\u001b[39m), activation\u001b[39m=\u001b[39m\u001b[39m\"\u001b[39m\u001b[39mrelu\u001b[39m\u001b[39m\"\u001b[39m, \n\u001b[0;32m      <a href='vscode-notebook-cell:/c%3A/Users/Loren/Desktop/Facu/Inteligencia%20Artificial/visual_IA/Redes_convolucionales/Redes_neu_c-CNN/1.ipynb#X21sZmlsZQ%3D%3D?line=8'>9</a>\u001b[0m                         padding\u001b[39m=\u001b[39m\u001b[39m\"\u001b[39m\u001b[39msame\u001b[39m\u001b[39m\"\u001b[39m))\n\u001b[0;32m     <a href='vscode-notebook-cell:/c%3A/Users/Loren/Desktop/Facu/Inteligencia%20Artificial/visual_IA/Redes_convolucionales/Redes_neu_c-CNN/1.ipynb#X21sZmlsZQ%3D%3D?line=9'>10</a>\u001b[0m modelo\u001b[39m.\u001b[39madd(BatchNormalization())\n\u001b[1;32m---> <a href='vscode-notebook-cell:/c%3A/Users/Loren/Desktop/Facu/Inteligencia%20Artificial/visual_IA/Redes_convolucionales/Redes_neu_c-CNN/1.ipynb#X21sZmlsZQ%3D%3D?line=10'>11</a>\u001b[0m modelo\u001b[39m.\u001b[39;49madd(MaxPooling2D(pool_size\u001b[39m=\u001b[39;49m(\u001b[39m3\u001b[39;49m, \u001b[39m3\u001b[39;49m), strides\u001b[39m=\u001b[39;49m(\u001b[39m2\u001b[39;49m, \u001b[39m2\u001b[39;49m)))\n\u001b[0;32m     <a href='vscode-notebook-cell:/c%3A/Users/Loren/Desktop/Facu/Inteligencia%20Artificial/visual_IA/Redes_convolucionales/Redes_neu_c-CNN/1.ipynb#X21sZmlsZQ%3D%3D?line=11'>12</a>\u001b[0m modelo\u001b[39m.\u001b[39madd(Conv2D(filters\u001b[39m=\u001b[39m\u001b[39m384\u001b[39m, kernel_size\u001b[39m=\u001b[39m(\u001b[39m3\u001b[39m, \u001b[39m3\u001b[39m), \n\u001b[0;32m     <a href='vscode-notebook-cell:/c%3A/Users/Loren/Desktop/Facu/Inteligencia%20Artificial/visual_IA/Redes_convolucionales/Redes_neu_c-CNN/1.ipynb#X21sZmlsZQ%3D%3D?line=12'>13</a>\u001b[0m                         strides\u001b[39m=\u001b[39m(\u001b[39m1\u001b[39m, \u001b[39m1\u001b[39m), activation\u001b[39m=\u001b[39m\u001b[39m\"\u001b[39m\u001b[39mrelu\u001b[39m\u001b[39m\"\u001b[39m, \n\u001b[0;32m     <a href='vscode-notebook-cell:/c%3A/Users/Loren/Desktop/Facu/Inteligencia%20Artificial/visual_IA/Redes_convolucionales/Redes_neu_c-CNN/1.ipynb#X21sZmlsZQ%3D%3D?line=13'>14</a>\u001b[0m                         padding\u001b[39m=\u001b[39m\u001b[39m\"\u001b[39m\u001b[39msame\u001b[39m\u001b[39m\"\u001b[39m))\n\u001b[0;32m     <a href='vscode-notebook-cell:/c%3A/Users/Loren/Desktop/Facu/Inteligencia%20Artificial/visual_IA/Redes_convolucionales/Redes_neu_c-CNN/1.ipynb#X21sZmlsZQ%3D%3D?line=14'>15</a>\u001b[0m modelo\u001b[39m.\u001b[39madd(BatchNormalization())\n",
      "File \u001b[1;32m~\\AppData\\Local\\Packages\\PythonSoftwareFoundation.Python.3.9_qbz5n2kfra8p0\\LocalCache\\local-packages\\Python39\\site-packages\\tensorflow\\python\\trackable\\base.py:205\u001b[0m, in \u001b[0;36mno_automatic_dependency_tracking.<locals>._method_wrapper\u001b[1;34m(self, *args, **kwargs)\u001b[0m\n\u001b[0;32m    203\u001b[0m \u001b[39mself\u001b[39m\u001b[39m.\u001b[39m_self_setattr_tracking \u001b[39m=\u001b[39m \u001b[39mFalse\u001b[39;00m  \u001b[39m# pylint: disable=protected-access\u001b[39;00m\n\u001b[0;32m    204\u001b[0m \u001b[39mtry\u001b[39;00m:\n\u001b[1;32m--> 205\u001b[0m   result \u001b[39m=\u001b[39m method(\u001b[39mself\u001b[39m, \u001b[39m*\u001b[39margs, \u001b[39m*\u001b[39m\u001b[39m*\u001b[39mkwargs)\n\u001b[0;32m    206\u001b[0m \u001b[39mfinally\u001b[39;00m:\n\u001b[0;32m    207\u001b[0m   \u001b[39mself\u001b[39m\u001b[39m.\u001b[39m_self_setattr_tracking \u001b[39m=\u001b[39m previous_value  \u001b[39m# pylint: disable=protected-access\u001b[39;00m\n",
      "File \u001b[1;32m~\\AppData\\Local\\Packages\\PythonSoftwareFoundation.Python.3.9_qbz5n2kfra8p0\\LocalCache\\local-packages\\Python39\\site-packages\\keras\\utils\\traceback_utils.py:70\u001b[0m, in \u001b[0;36mfilter_traceback.<locals>.error_handler\u001b[1;34m(*args, **kwargs)\u001b[0m\n\u001b[0;32m     67\u001b[0m     filtered_tb \u001b[39m=\u001b[39m _process_traceback_frames(e\u001b[39m.\u001b[39m__traceback__)\n\u001b[0;32m     68\u001b[0m     \u001b[39m# To get the full stack trace, call:\u001b[39;00m\n\u001b[0;32m     69\u001b[0m     \u001b[39m# `tf.debugging.disable_traceback_filtering()`\u001b[39;00m\n\u001b[1;32m---> 70\u001b[0m     \u001b[39mraise\u001b[39;00m e\u001b[39m.\u001b[39mwith_traceback(filtered_tb) \u001b[39mfrom\u001b[39;00m \u001b[39mNone\u001b[39m\n\u001b[0;32m     71\u001b[0m \u001b[39mfinally\u001b[39;00m:\n\u001b[0;32m     72\u001b[0m     \u001b[39mdel\u001b[39;00m filtered_tb\n",
      "File \u001b[1;32m~\\AppData\\Local\\Packages\\PythonSoftwareFoundation.Python.3.9_qbz5n2kfra8p0\\LocalCache\\local-packages\\Python39\\site-packages\\tensorflow\\python\\framework\\ops.py:1969\u001b[0m, in \u001b[0;36m_create_c_op\u001b[1;34m(graph, node_def, inputs, control_inputs, op_def, extract_traceback)\u001b[0m\n\u001b[0;32m   1966\u001b[0m   c_op \u001b[39m=\u001b[39m pywrap_tf_session\u001b[39m.\u001b[39mTF_FinishOperation(op_desc)\n\u001b[0;32m   1967\u001b[0m \u001b[39mexcept\u001b[39;00m errors\u001b[39m.\u001b[39mInvalidArgumentError \u001b[39mas\u001b[39;00m e:\n\u001b[0;32m   1968\u001b[0m   \u001b[39m# Convert to ValueError for backwards compatibility.\u001b[39;00m\n\u001b[1;32m-> 1969\u001b[0m   \u001b[39mraise\u001b[39;00m \u001b[39mValueError\u001b[39;00m(e\u001b[39m.\u001b[39mmessage)\n\u001b[0;32m   1971\u001b[0m \u001b[39m# Record the current Python stack trace as the creating stacktrace of this\u001b[39;00m\n\u001b[0;32m   1972\u001b[0m \u001b[39m# TF_Operation.\u001b[39;00m\n\u001b[0;32m   1973\u001b[0m \u001b[39mif\u001b[39;00m extract_traceback:\n",
      "\u001b[1;31mValueError\u001b[0m: Exception encountered when calling layer \"max_pooling2d_18\" (type MaxPooling2D).\n\nNegative dimension size caused by subtracting 3 from 1 for '{{node max_pooling2d_18/MaxPool}} = MaxPool[T=DT_FLOAT, data_format=\"NHWC\", explicit_paddings=[], ksize=[1, 3, 3, 1], padding=\"VALID\", strides=[1, 2, 2, 1]](Placeholder)' with input shapes: [?,1,2,256].\n\nCall arguments received by layer \"max_pooling2d_18\" (type MaxPooling2D):\n  • inputs=tf.Tensor(shape=(None, 1, 2, 256), dtype=float32)"
     ]
    }
   ],
   "source": [
    "modelo = keras.Sequential()\n",
    "modelo.add(Conv2D(filters=96, kernel_size=(11, 11), \n",
    "                        strides=(4, 4), activation=\"relu\", \n",
    "                        input_shape=(21, 28, 3)))\n",
    "modelo.add(BatchNormalization())\n",
    "modelo.add(MaxPooling2D(pool_size=(3, 3), strides= (2, 2)))\n",
    "modelo.add(Conv2D(filters=256, kernel_size=(5, 5), \n",
    "                        strides=(1, 1), activation=\"relu\", \n",
    "                        padding=\"same\"))\n",
    "modelo.add(BatchNormalization())\n",
    "modelo.add(MaxPooling2D(pool_size=(3, 3), strides=(2, 2)))\n",
    "modelo.add(Conv2D(filters=384, kernel_size=(3, 3), \n",
    "                        strides=(1, 1), activation=\"relu\", \n",
    "                        padding=\"same\"))\n",
    "modelo.add(BatchNormalization())\n",
    "modelo.add(Conv2D(filters=384, kernel_size=(3, 3), \n",
    "                        strides=(1, 1), activation=\"relu\", \n",
    "                        padding=\"same\"))\n",
    "modelo.add(BatchNormalization())\n",
    "modelo.add(Conv2D(filters=256, kernel_size=(3, 3), \n",
    "                        strides=(1, 1), activation=\"relu\", \n",
    "                        padding=\"same\"))\n",
    "modelo.add(BatchNormalization())\n",
    "modelo.add(MaxPooling2D(pool_size=(3, 3), strides=(2, 2)))\n",
    "modelo.add(Flatten())\n",
    "modelo.add(Dense(4096, activation=\"relu\"))\n",
    "modelo.add(Dropout(0.5))\n",
    "modelo.add(Dense(10, activation=\"softmax\"))\n",
    "modelo.compile(loss='sparse_categorical_crossentropy', \n",
    "              optimizer=tensorflow.optimizers.SGD(lr=0.001), \n",
    "              metrics=['accuracy'])\n",
    "modelo.summary()"
   ]
  },
  {
   "cell_type": "code",
   "execution_count": null,
   "metadata": {},
   "outputs": [
    {
     "name": "stdout",
     "output_type": "stream",
     "text": [
      "Epoch 1/6\n"
     ]
    },
    {
     "ename": "ValueError",
     "evalue": "in user code:\n\n    File \"C:\\Users\\Loren\\AppData\\Local\\Packages\\PythonSoftwareFoundation.Python.3.9_qbz5n2kfra8p0\\LocalCache\\local-packages\\Python39\\site-packages\\keras\\engine\\training.py\", line 1160, in train_function  *\n        return step_function(self, iterator)\n    File \"C:\\Users\\Loren\\AppData\\Local\\Packages\\PythonSoftwareFoundation.Python.3.9_qbz5n2kfra8p0\\LocalCache\\local-packages\\Python39\\site-packages\\keras\\engine\\training.py\", line 1146, in step_function  **\n        outputs = model.distribute_strategy.run(run_step, args=(data,))\n    File \"C:\\Users\\Loren\\AppData\\Local\\Packages\\PythonSoftwareFoundation.Python.3.9_qbz5n2kfra8p0\\LocalCache\\local-packages\\Python39\\site-packages\\keras\\engine\\training.py\", line 1135, in run_step  **\n        outputs = model.train_step(data)\n    File \"C:\\Users\\Loren\\AppData\\Local\\Packages\\PythonSoftwareFoundation.Python.3.9_qbz5n2kfra8p0\\LocalCache\\local-packages\\Python39\\site-packages\\keras\\engine\\training.py\", line 993, in train_step\n        y_pred = self(x, training=True)\n    File \"C:\\Users\\Loren\\AppData\\Local\\Packages\\PythonSoftwareFoundation.Python.3.9_qbz5n2kfra8p0\\LocalCache\\local-packages\\Python39\\site-packages\\keras\\utils\\traceback_utils.py\", line 70, in error_handler\n        raise e.with_traceback(filtered_tb) from None\n    File \"C:\\Users\\Loren\\AppData\\Local\\Packages\\PythonSoftwareFoundation.Python.3.9_qbz5n2kfra8p0\\LocalCache\\local-packages\\Python39\\site-packages\\keras\\engine\\input_spec.py\", line 295, in assert_input_compatibility\n        raise ValueError(\n\n    ValueError: Input 0 of layer \"sequential_8\" is incompatible with the layer: expected shape=(None, 227, 227, 3), found shape=(None, 21, 28, 3)\n",
     "output_type": "error",
     "traceback": [
      "\u001b[1;31m---------------------------------------------------------------------------\u001b[0m",
      "\u001b[1;31mValueError\u001b[0m                                Traceback (most recent call last)",
      "\u001b[1;32mc:\\Users\\Loren\\Desktop\\Facu\\Inteligencia Artificial\\visual_IA\\Redes_convolucionales\\Redes_neu_c-CNN\\1.ipynb Celda 13\u001b[0m in \u001b[0;36m<cell line: 3>\u001b[1;34m()\u001b[0m\n\u001b[0;32m      <a href='vscode-notebook-cell:/c%3A/Users/Loren/Desktop/Facu/Inteligencia%20Artificial/visual_IA/Redes_convolucionales/Redes_neu_c-CNN/1.ipynb#X11sZmlsZQ%3D%3D?line=0'>1</a>\u001b[0m epochs \u001b[39m=\u001b[39m \u001b[39m6\u001b[39m\n\u001b[0;32m      <a href='vscode-notebook-cell:/c%3A/Users/Loren/Desktop/Facu/Inteligencia%20Artificial/visual_IA/Redes_convolucionales/Redes_neu_c-CNN/1.ipynb#X11sZmlsZQ%3D%3D?line=1'>2</a>\u001b[0m batch_size \u001b[39m=\u001b[39m \u001b[39m64\u001b[39m\n\u001b[1;32m----> <a href='vscode-notebook-cell:/c%3A/Users/Loren/Desktop/Facu/Inteligencia%20Artificial/visual_IA/Redes_convolucionales/Redes_neu_c-CNN/1.ipynb#X11sZmlsZQ%3D%3D?line=2'>3</a>\u001b[0m entrenamiento\u001b[39m=\u001b[39m modelo\u001b[39m.\u001b[39;49mfit(train_X, train_label, batch_size\u001b[39m=\u001b[39;49mbatch_size,epochs\u001b[39m=\u001b[39;49mepochs,verbose\u001b[39m=\u001b[39;49m\u001b[39m1\u001b[39;49m,validation_data\u001b[39m=\u001b[39;49m(valid_X, valid_label))\n\u001b[0;32m      <a href='vscode-notebook-cell:/c%3A/Users/Loren/Desktop/Facu/Inteligencia%20Artificial/visual_IA/Redes_convolucionales/Redes_neu_c-CNN/1.ipynb#X11sZmlsZQ%3D%3D?line=4'>5</a>\u001b[0m \u001b[39m# guardo la red\u001b[39;00m\n\u001b[0;32m      <a href='vscode-notebook-cell:/c%3A/Users/Loren/Desktop/Facu/Inteligencia%20Artificial/visual_IA/Redes_convolucionales/Redes_neu_c-CNN/1.ipynb#X11sZmlsZQ%3D%3D?line=5'>6</a>\u001b[0m modelo\u001b[39m.\u001b[39msave(\u001b[39m\"\u001b[39m\u001b[39msuperIA3000\u001b[39m\u001b[39m\"\u001b[39m)\n",
      "File \u001b[1;32m~\\AppData\\Local\\Packages\\PythonSoftwareFoundation.Python.3.9_qbz5n2kfra8p0\\LocalCache\\local-packages\\Python39\\site-packages\\keras\\utils\\traceback_utils.py:70\u001b[0m, in \u001b[0;36mfilter_traceback.<locals>.error_handler\u001b[1;34m(*args, **kwargs)\u001b[0m\n\u001b[0;32m     67\u001b[0m     filtered_tb \u001b[39m=\u001b[39m _process_traceback_frames(e\u001b[39m.\u001b[39m__traceback__)\n\u001b[0;32m     68\u001b[0m     \u001b[39m# To get the full stack trace, call:\u001b[39;00m\n\u001b[0;32m     69\u001b[0m     \u001b[39m# `tf.debugging.disable_traceback_filtering()`\u001b[39;00m\n\u001b[1;32m---> 70\u001b[0m     \u001b[39mraise\u001b[39;00m e\u001b[39m.\u001b[39mwith_traceback(filtered_tb) \u001b[39mfrom\u001b[39;00m \u001b[39mNone\u001b[39m\n\u001b[0;32m     71\u001b[0m \u001b[39mfinally\u001b[39;00m:\n\u001b[0;32m     72\u001b[0m     \u001b[39mdel\u001b[39;00m filtered_tb\n",
      "File \u001b[1;32m~\\AppData\\Local\\Temp\\__autograph_generated_filegrgfw8w0.py:15\u001b[0m, in \u001b[0;36mouter_factory.<locals>.inner_factory.<locals>.tf__train_function\u001b[1;34m(iterator)\u001b[0m\n\u001b[0;32m     13\u001b[0m \u001b[39mtry\u001b[39;00m:\n\u001b[0;32m     14\u001b[0m     do_return \u001b[39m=\u001b[39m \u001b[39mTrue\u001b[39;00m\n\u001b[1;32m---> 15\u001b[0m     retval_ \u001b[39m=\u001b[39m ag__\u001b[39m.\u001b[39mconverted_call(ag__\u001b[39m.\u001b[39mld(step_function), (ag__\u001b[39m.\u001b[39mld(\u001b[39mself\u001b[39m), ag__\u001b[39m.\u001b[39mld(iterator)), \u001b[39mNone\u001b[39;00m, fscope)\n\u001b[0;32m     16\u001b[0m \u001b[39mexcept\u001b[39;00m:\n\u001b[0;32m     17\u001b[0m     do_return \u001b[39m=\u001b[39m \u001b[39mFalse\u001b[39;00m\n",
      "\u001b[1;31mValueError\u001b[0m: in user code:\n\n    File \"C:\\Users\\Loren\\AppData\\Local\\Packages\\PythonSoftwareFoundation.Python.3.9_qbz5n2kfra8p0\\LocalCache\\local-packages\\Python39\\site-packages\\keras\\engine\\training.py\", line 1160, in train_function  *\n        return step_function(self, iterator)\n    File \"C:\\Users\\Loren\\AppData\\Local\\Packages\\PythonSoftwareFoundation.Python.3.9_qbz5n2kfra8p0\\LocalCache\\local-packages\\Python39\\site-packages\\keras\\engine\\training.py\", line 1146, in step_function  **\n        outputs = model.distribute_strategy.run(run_step, args=(data,))\n    File \"C:\\Users\\Loren\\AppData\\Local\\Packages\\PythonSoftwareFoundation.Python.3.9_qbz5n2kfra8p0\\LocalCache\\local-packages\\Python39\\site-packages\\keras\\engine\\training.py\", line 1135, in run_step  **\n        outputs = model.train_step(data)\n    File \"C:\\Users\\Loren\\AppData\\Local\\Packages\\PythonSoftwareFoundation.Python.3.9_qbz5n2kfra8p0\\LocalCache\\local-packages\\Python39\\site-packages\\keras\\engine\\training.py\", line 993, in train_step\n        y_pred = self(x, training=True)\n    File \"C:\\Users\\Loren\\AppData\\Local\\Packages\\PythonSoftwareFoundation.Python.3.9_qbz5n2kfra8p0\\LocalCache\\local-packages\\Python39\\site-packages\\keras\\utils\\traceback_utils.py\", line 70, in error_handler\n        raise e.with_traceback(filtered_tb) from None\n    File \"C:\\Users\\Loren\\AppData\\Local\\Packages\\PythonSoftwareFoundation.Python.3.9_qbz5n2kfra8p0\\LocalCache\\local-packages\\Python39\\site-packages\\keras\\engine\\input_spec.py\", line 295, in assert_input_compatibility\n        raise ValueError(\n\n    ValueError: Input 0 of layer \"sequential_8\" is incompatible with the layer: expected shape=(None, 227, 227, 3), found shape=(None, 21, 28, 3)\n"
     ]
    }
   ],
   "source": [
    "epochs = 6\n",
    "batch_size = 64\n",
    "entrenamiento= modelo.fit(train_X, train_label, batch_size=batch_size,epochs=epochs,verbose=1,validation_data=(valid_X, valid_label))\n",
    "\n",
    "# guardo la red\n",
    "modelo.save(\"superIA3000\")"
   ]
  },
  {
   "cell_type": "markdown",
   "metadata": {},
   "source": [
    "Utilizo el modelo guardado para que clasifique imagenes que nunca vio"
   ]
  },
  {
   "cell_type": "code",
   "execution_count": null,
   "metadata": {},
   "outputs": [
    {
     "name": "stdout",
     "output_type": "stream",
     "text": [
      "424/424 [==============================] - 2s 4ms/step - loss: 0.7953 - accuracy: 0.8341\n",
      "Test loss: 0.7952771782875061\n",
      "Test accuracy: 0.8340955972671509\n"
     ]
    }
   ],
   "source": [
    "test_eval = modelo.evaluate(test_X, test_Y_one_hot, verbose=1)\n",
    "\n",
    "print('Test loss:', test_eval[0])\n",
    "print('Test accuracy:', test_eval[1])"
   ]
  },
  {
   "cell_type": "code",
   "execution_count": null,
   "metadata": {},
   "outputs": [
    {
     "data": {
      "image/png": "[encoded data removed]",
      "text/plain": [
       "<Figure size 432x288 with 1 Axes>"
      ]
     },
     "metadata": {
      "needs_background": "light"
     },
     "output_type": "display_data"
    },
    {
     "data": {
      "image/png": "[encoded data removed]",
      "text/plain": [
       "<Figure size 432x288 with 1 Axes>"
      ]
     },
     "metadata": {
      "needs_background": "light"
     },
     "output_type": "display_data"
    }
   ],
   "source": [
    "accuracy = entrenamiento.history['accuracy']\n",
    "val_accuracy = entrenamiento.history['val_accuracy']\n",
    "loss = entrenamiento.history['loss']\n",
    "val_loss = entrenamiento.history['val_loss']\n",
    "epochs = range(len(accuracy))\n",
    "plt.plot(epochs, accuracy, 'bo', label='Training accuracy')\n",
    "plt.plot(epochs, val_accuracy, 'b', label='Validation accuracy')\n",
    "plt.title('Training and validation accuracy')\n",
    "plt.legend()\n",
    "plt.figure()\n",
    "plt.plot(epochs, loss, 'bo', label='Training loss')\n",
    "plt.plot(epochs, val_loss, 'b', label='Validation loss')\n",
    "plt.title('Training and validation loss')\n",
    "plt.legend()\n",
    "plt.show()"
   ]
  }
 ],
 "metadata": {
  "kernelspec": {
   "display_name": "Python 3.9.13 64-bit (microsoft store)",
   "language": "python",
   "name": "python3"
  },
  "language_info": {
   "codemirror_mode": {
    "name": "ipython",
    "version": 3
   },
   "file_extension": ".py",
   "mimetype": "text/x-python",
   "name": "python",
   "nbconvert_exporter": "python",
   "pygments_lexer": "ipython3",
   "version": "3.9.13"
  },
  "orig_nbformat": 4,
  "vscode": {
   "interpreter": {
    "hash": "5a9dd97664bf91ef683581d1f7f613b6b8bcbe68b67ef643700d803de5486458"
   }
  }
 },
 "nbformat": 4,
 "nbformat_minor": 2
}
