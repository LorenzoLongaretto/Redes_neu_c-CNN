{
 "cells": [
  {
   "cell_type": "markdown",
   "metadata": {},
   "source": [
    "## imports"
   ]
  },
  {
   "cell_type": "code",
   "execution_count": 15,
   "metadata": {},
   "outputs": [],
   "source": [
    "import numpy as np\n",
    "import os\n",
    "import re\n",
    "import matplotlib.pyplot as plt\n",
    "from sklearn.model_selection import train_test_split\n",
    "from sklearn.metrics import classification_report\n",
    "import keras\n",
    "from keras import Input\n",
    "from keras.utils import to_categorical\n",
    "from keras.models import Sequential,Model\n",
    "from keras.layers import Dense, Dropout, Flatten\n",
    "from keras.layers import Conv2D, MaxPooling2D\n",
    "from keras.layers import BatchNormalization\n",
    "from keras.layers import LeakyReLU\n",
    "\n",
    "import tensorflow\n",
    "\n",
    "import visualkeras\n",
    "\n",
    "\n"
   ]
  },
  {
   "cell_type": "markdown",
   "metadata": {},
   "source": [
    "# Carga de imagenes a memoria"
   ]
  },
  {
   "cell_type": "code",
   "execution_count": 7,
   "metadata": {
    "tags": []
   },
   "outputs": [
    {
     "name": "stdout",
     "output_type": "stream",
     "text": [
      "leyendo imagenes de  c:\\Users\\Loren\\Desktop\\Facu\\Inteligencia Artificial\\visual_IA\\Redes_convolucionales\\Redes_neu_c-CNN\\imagenes\\\n",
      "c:\\Users\\Loren\\Desktop\\Facu\\Inteligencia Artificial\\visual_IA\\Redes_convolucionales\\Redes_neu_c-CNN\\imagenes\\basket 8823\n",
      "c:\\Users\\Loren\\Desktop\\Facu\\Inteligencia Artificial\\visual_IA\\Redes_convolucionales\\Redes_neu_c-CNN\\imagenes\\beisball 7752\n",
      "c:\\Users\\Loren\\Desktop\\Facu\\Inteligencia Artificial\\visual_IA\\Redes_convolucionales\\Redes_neu_c-CNN\\imagenes\\boxeo 7125\n",
      "c:\\Users\\Loren\\Desktop\\Facu\\Inteligencia Artificial\\visual_IA\\Redes_convolucionales\\Redes_neu_c-CNN\\imagenes\\ciclismo 7533\n",
      "c:\\Users\\Loren\\Desktop\\Facu\\Inteligencia Artificial\\visual_IA\\Redes_convolucionales\\Redes_neu_c-CNN\\imagenes\\f1 5053\n",
      "c:\\Users\\Loren\\Desktop\\Facu\\Inteligencia Artificial\\visual_IA\\Redes_convolucionales\\Redes_neu_c-CNN\\imagenes\\futbol 7617\n",
      "c:\\Users\\Loren\\Desktop\\Facu\\Inteligencia Artificial\\visual_IA\\Redes_convolucionales\\Redes_neu_c-CNN\\imagenes\\golf 9768\n",
      "c:\\Users\\Loren\\Desktop\\Facu\\Inteligencia Artificial\\visual_IA\\Redes_convolucionales\\Redes_neu_c-CNN\\imagenes\\natacion 5172\n",
      "c:\\Users\\Loren\\Desktop\\Facu\\Inteligencia Artificial\\visual_IA\\Redes_convolucionales\\Redes_neu_c-CNN\\imagenes\\tenis 8937\n",
      "Directorios leidos: 9\n",
      "Imagenes en cada directorio [8823, 7752, 7125, 7533, 5053, 7617, 9768, 5172, 8937, 0]\n",
      "suma Total de imagenes en subdirs: 67780\n"
     ]
    }
   ],
   "source": [
    "from asyncio.windows_events import NULL\n",
    "\n",
    "\n",
    "dirname = os.path.join(os.getcwd(), 'imagenes')\n",
    "imgpath = dirname + os.sep\n",
    "\n",
    "images = []\n",
    "directories = []\n",
    "dircount = []\n",
    "cant=0\n",
    "filename=NULL #esto lo pongo por si entra un filename vacio dentro de filanames(no se xq puede pasar)\n",
    "\n",
    "print(\"leyendo imagenes de \",imgpath)\n",
    "\n",
    "\n",
    "# for root, dirnames, filenames in os.walk(imgpath):\n",
    "#     print(root)\n",
    "for root, dirnames, filenames in os.walk(imgpath):\n",
    "    for filename in filenames:\n",
    "        if re.search(\"\\.(jpg|jpeg|png|bmp|tiff)$\", filename):\n",
    "            cant=cant+1\n",
    "            filepath = os.path.join(root, filename)\n",
    "            imagen = plt.imread(filepath)\n",
    "            images.append(imagen)\n",
    "            b = \"Leyendo...\" + str(cant)\n",
    "            print (b, end=\"\\r\")\n",
    "    if filename!=NULL and (re.search(\"\\.(jpg|jpeg|png|bmp|tiff)$\", filename)):\n",
    "        print(root, cant)\n",
    "        directories.append(root)\n",
    "        dircount.append(cant)\n",
    "        cant=0\n",
    "dircount.append(cant)\n",
    "\n",
    "# dircount = dircount[1:]\n",
    "# dircount[0]=dircount[0]+1\n",
    "print('Directorios leidos:',len(directories))\n",
    "print(\"Imagenes en cada directorio\", dircount)\n",
    "print('suma Total de imagenes en subdirs:',sum(dircount))"
   ]
  },
  {
   "cell_type": "markdown",
   "metadata": {},
   "source": [
    "# Etiquetas y clases"
   ]
  },
  {
   "cell_type": "code",
   "execution_count": 8,
   "metadata": {},
   "outputs": [
    {
     "name": "stdout",
     "output_type": "stream",
     "text": [
      "Cantidad etiquetas creadas:  67780\n",
      "0 basket\n",
      "1 beisball\n",
      "2 boxeo\n",
      "3 ciclismo\n",
      "4 f1\n",
      "5 futbol\n",
      "6 golf\n",
      "7 natacion\n",
      "8 tenis\n",
      "Total number of outputs :  9\n",
      "Output classes :  [0 1 2 3 4 5 6 7 8]\n"
     ]
    }
   ],
   "source": [
    "labels=[]\n",
    "indice=0\n",
    "for cantidad in dircount:\n",
    "    for i in range(cantidad):\n",
    "        labels.append(indice)\n",
    "    indice=indice+1\n",
    "print(\"Cantidad etiquetas creadas: \",len(labels))\n",
    "\n",
    "deportes=[]\n",
    "indice=0\n",
    "for directorio in directories:\n",
    "    name = directorio.split(os.sep)\n",
    "    print(indice , name[len(name)-1])\n",
    "    deportes.append(name[len(name)-1])\n",
    "    indice=indice+1\n",
    "\n",
    "y = np.array(labels)\n",
    "X = np.array(images, dtype=np.uint8) #convierto de lista a numpy\n",
    "\n",
    "classes = np.unique(y)\n",
    "nClasses = len(classes)\n",
    "print('Total number of outputs : ', nClasses)\n",
    "print('Output classes : ', classes)"
   ]
  },
  {
   "cell_type": "code",
   "execution_count": 9,
   "metadata": {},
   "outputs": [
    {
     "name": "stdout",
     "output_type": "stream",
     "text": [
      "Training data shape :  (54224, 21, 28, 3) (54224,)\n",
      "Testing data shape :  (13556, 21, 28, 3) (13556,)\n",
      "Original label: 3\n",
      "Luego de one-hot: [0. 0. 0. 1. 0. 0. 0. 0. 0.]\n",
      "Entrenamiento   (43379, 21, 28, 3)  Validacion (10845, 21, 28, 3) (43379, 9) (10845, 9)\n"
     ]
    }
   ],
   "source": [
    "#Mezclar todo y crear los grupos de entrenamiento y testing\n",
    "train_X,test_X,train_Y,test_Y = train_test_split(X,y,test_size=0.2) #tomo el 20% para test\n",
    "print('Training data shape : ', train_X.shape, train_Y.shape) #en el print sale cant img train- (21x28)dim img- RGB\n",
    "print('Testing data shape : ', test_X.shape, test_Y.shape)\n",
    "\n",
    "train_X = train_X.astype('float32')\n",
    "test_X = test_X.astype('float32')\n",
    "train_X = train_X / 255.\n",
    "test_X = test_X / 255.\n",
    "\n",
    "# one-hot encoding\n",
    "train_Y_one_hot = to_categorical(train_Y)\n",
    "test_Y_one_hot = to_categorical(test_Y)\n",
    "\n",
    "# original y post one-hot encoding\n",
    "print('Original label:', train_Y[0])\n",
    "print('Luego de one-hot:', train_Y_one_hot[0])\n",
    "\n",
    "train_X,valid_X,train_label,valid_label = train_test_split(train_X, train_Y_one_hot, test_size=0.2, random_state=13) #datos de validacion, 20% del train\n",
    "\n",
    "print(\"Entrenamiento  \",train_X.shape,\" Validacion\",valid_X.shape,train_label.shape,valid_label.shape)"
   ]
  },
  {
   "cell_type": "code",
   "execution_count": 10,
   "metadata": {},
   "outputs": [
    {
     "name": "stdout",
     "output_type": "stream",
     "text": [
      "Model: \"sequential\"\n",
      "_________________________________________________________________\n",
      " Layer (type)                Output Shape              Param #   \n",
      "=================================================================\n",
      " conv2d (Conv2D)             (None, 21, 28, 32)        896       \n",
      "                                                                 \n",
      " leaky_re_lu (LeakyReLU)     (None, 21, 28, 32)        0         \n",
      "                                                                 \n",
      " max_pooling2d (MaxPooling2D  (None, 11, 14, 32)       0         \n",
      " )                                                               \n",
      "                                                                 \n",
      " dropout (Dropout)           (None, 11, 14, 32)        0         \n",
      "                                                                 \n",
      " flatten (Flatten)           (None, 4928)              0         \n",
      "                                                                 \n",
      " dense (Dense)               (None, 32)                157728    \n",
      "                                                                 \n",
      " leaky_re_lu_1 (LeakyReLU)   (None, 32)                0         \n",
      "                                                                 \n",
      " dropout_1 (Dropout)         (None, 32)                0         \n",
      "                                                                 \n",
      " dense_1 (Dense)             (None, 9)                 297       \n",
      "                                                                 \n",
      "=================================================================\n",
      "Total params: 158,921\n",
      "Trainable params: 158,921\n",
      "Non-trainable params: 0\n",
      "_________________________________________________________________\n"
     ]
    },
    {
     "name": "stderr",
     "output_type": "stream",
     "text": [
      "C:\\Users\\Loren\\AppData\\Local\\Packages\\PythonSoftwareFoundation.Python.3.9_qbz5n2kfra8p0\\LocalCache\\local-packages\\Python39\\site-packages\\keras\\optimizers\\optimizer_v2\\adagrad.py:81: UserWarning: The `lr` argument is deprecated, use `learning_rate` instead.\n",
      "  super().__init__(name, **kwargs)\n"
     ]
    }
   ],
   "source": [
    "INIT_LR = 1e-3\n",
    "\n",
    "modelo = Sequential()\n",
    "modelo.add(Conv2D(32, kernel_size=(3, 3),activation='linear',padding='same',input_shape=(21,28,3))) #21x28x3\n",
    "modelo.add(LeakyReLU(alpha=0.1)) \n",
    "modelo.add(MaxPooling2D((2, 2),padding='same'))# 21x28->11x14 \n",
    "modelo.add(Dropout(0.5)) #para evitar overfitting\n",
    "\n",
    "modelo.add(Flatten()) #aplano\n",
    "modelo.add(Dense(32, activation='linear'))# capa de 32 nauronas-> 2^5\n",
    "modelo.add(LeakyReLU(alpha=0.1))\n",
    "modelo.add(Dropout(0.5)) \n",
    "modelo.add(Dense(nClasses, activation='softmax'))# capa de tantas neuronas como clases, creo que deberia ser pot de 2\n",
    "\n",
    "modelo.summary()\n",
    "#compilador y optimizador\n",
    "modelo.compile(loss=keras.losses.categorical_crossentropy, optimizer=keras.optimizers.Adagrad(lr=INIT_LR, decay=INIT_LR / 100),metrics=['accuracy'])"
   ]
  },
  {
   "cell_type": "code",
   "execution_count": 11,
   "metadata": {},
   "outputs": [
    {
     "name": "stdout",
     "output_type": "stream",
     "text": [
      "Epoch 1/6\n",
      "678/678 [==============================] - 13s 18ms/step - loss: 2.0164 - accuracy: 0.2738 - val_loss: 1.7082 - val_accuracy: 0.5322\n",
      "Epoch 2/6\n",
      "678/678 [==============================] - 12s 17ms/step - loss: 1.6533 - accuracy: 0.4406 - val_loss: 1.3580 - val_accuracy: 0.6352\n",
      "Epoch 3/6\n",
      "678/678 [==============================] - 12s 17ms/step - loss: 1.4290 - accuracy: 0.5253 - val_loss: 1.1564 - val_accuracy: 0.7117\n",
      "Epoch 4/6\n",
      "678/678 [==============================] - 11s 16ms/step - loss: 1.2806 - accuracy: 0.5809 - val_loss: 1.0209 - val_accuracy: 0.7566\n",
      "Epoch 5/6\n",
      "678/678 [==============================] - 11s 16ms/step - loss: 1.1894 - accuracy: 0.6098 - val_loss: 0.9224 - val_accuracy: 0.7829\n",
      "Epoch 6/6\n",
      "678/678 [==============================] - 10s 15ms/step - loss: 1.1026 - accuracy: 0.6431 - val_loss: 0.8447 - val_accuracy: 0.8030\n"
     ]
    },
    {
     "name": "stderr",
     "output_type": "stream",
     "text": [
      "WARNING:absl:Found untraced functions such as _jit_compiled_convolution_op while saving (showing 1 of 1). These functions will not be directly callable after loading.\n"
     ]
    },
    {
     "name": "stdout",
     "output_type": "stream",
     "text": [
      "INFO:tensorflow:Assets written to: superIA3000\\assets\n"
     ]
    },
    {
     "name": "stderr",
     "output_type": "stream",
     "text": [
      "INFO:tensorflow:Assets written to: superIA3000\\assets\n"
     ]
    }
   ],
   "source": [
    "epochs = 6\n",
    "batch_size = 64\n",
    "entrenamiento= modelo.fit(train_X, train_label, batch_size=batch_size,epochs=epochs,verbose=1,validation_data=(valid_X, valid_label))\n",
    "\n",
    "# guardo la red\n",
    "modelo.save(\"superIA3000\")"
   ]
  },
  {
   "cell_type": "markdown",
   "metadata": {},
   "source": [
    "Utilizo el modelo guardado para que clasifique imagenes que nunca vio"
   ]
  },
  {
   "cell_type": "code",
   "execution_count": 12,
   "metadata": {},
   "outputs": [
    {
     "name": "stdout",
     "output_type": "stream",
     "text": [
      "424/424 [==============================] - 1s 3ms/step - loss: 0.8585 - accuracy: 0.7977\n",
      "Test loss: 0.8585090041160583\n",
      "Test accuracy: 0.7976541519165039\n"
     ]
    }
   ],
   "source": [
    "test_eval = modelo.evaluate(test_X, test_Y_one_hot, verbose=1)\n",
    "\n",
    "print('Test loss:', test_eval[0])\n",
    "print('Test accuracy:', test_eval[1])"
   ]
  },
  {
   "cell_type": "markdown",
   "metadata": {},
   "source": [
    "### Forma visual de la arquitectura"
   ]
  },
  {
   "cell_type": "code",
   "execution_count": 16,
   "metadata": {},
   "outputs": [
    {
     "data": {
      "image/png": "[encoded data removed]",
      "text/plain": [
       "<PIL.Image.Image image mode=RGBA size=678x140>"
      ]
     },
     "execution_count": 16,
     "metadata": {},
     "output_type": "execute_result"
    }
   ],
   "source": [
    "visualkeras.layered_view(modelo)"
   ]
  },
  {
   "cell_type": "code",
   "execution_count": 13,
   "metadata": {},
   "outputs": [
    {
     "data": {
      "image/png": "[encoded data removed]",
      "text/plain": [
       "<Figure size 432x288 with 1 Axes>"
      ]
     },
     "metadata": {
      "needs_background": "light"
     },
     "output_type": "display_data"
    },
    {
     "data": {
      "image/png": "[encoded data removed]",
      "text/plain": [
       "<Figure size 432x288 with 1 Axes>"
      ]
     },
     "metadata": {
      "needs_background": "light"
     },
     "output_type": "display_data"
    }
   ],
   "source": [
    "accuracy = entrenamiento.history['accuracy']\n",
    "val_accuracy = entrenamiento.history['val_accuracy']\n",
    "loss = entrenamiento.history['loss']\n",
    "val_loss = entrenamiento.history['val_loss']\n",
    "epochs = range(len(accuracy))\n",
    "plt.plot(epochs, accuracy, 'bo', label='Training accuracy')\n",
    "plt.plot(epochs, val_accuracy, 'b', label='Validation accuracy')\n",
    "plt.title('Training and validation accuracy')\n",
    "plt.legend()\n",
    "plt.figure()\n",
    "plt.plot(epochs, loss, 'bo', label='Training loss')\n",
    "plt.plot(epochs, val_loss, 'b', label='Validation loss')\n",
    "plt.title('Training and validation loss')\n",
    "plt.legend()\n",
    "plt.show()"
   ]
  }
 ],
 "metadata": {
  "kernelspec": {
   "display_name": "Python 3.9.13 64-bit (microsoft store)",
   "language": "python",
   "name": "python3"
  },
  "language_info": {
   "codemirror_mode": {
    "name": "ipython",
    "version": 3
   },
   "file_extension": ".py",
   "mimetype": "text/x-python",
   "name": "python",
   "nbconvert_exporter": "python",
   "pygments_lexer": "ipython3",
   "version": "3.9.13"
  },
  "orig_nbformat": 4,
  "vscode": {
   "interpreter": {
    "hash": "5a9dd97664bf91ef683581d1f7f613b6b8bcbe68b67ef643700d803de5486458"
   }
  }
 },
 "nbformat": 4,
 "nbformat_minor": 2
}
